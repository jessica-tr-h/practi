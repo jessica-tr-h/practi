{
  "metadata": {
    "language_info": {
      "codemirror_mode": {
        "name": "python",
        "version": 3
      },
      "file_extension": ".py",
      "mimetype": "text/x-python",
      "name": "python",
      "nbconvert_exporter": "python",
      "pygments_lexer": "ipython3",
      "version": "3.8"
    },
    "kernelspec": {
      "name": "python",
      "display_name": "Python (Pyodide)",
      "language": "python"
    }
  },
  "nbformat_minor": 4,
  "nbformat": 4,
  "cells": [
    {
      "cell_type": "markdown",
      "source": "## Exercise 2: Create markdown cell with title of the notebook\n\nData Science Tools and Ecosystem",
      "metadata": {}
    },
    {
      "cell_type": "markdown",
      "source": "## Exercise 3 - Create a markdown cell for an introduction\n\nIn this notebook, Data Science Tools and Ecosystem are summarized.",
      "metadata": {}
    },
    {
      "cell_type": "markdown",
      "source": "**Objectives:**\n\n- List popular languages for Data Science\n- Discuss key libraries and frameworks used in Data Science\n- Introduce common data manipulation and analysis techniques\n- Explore machine learning algorithms and their applications\n- Showcase best practices for data visualization and storytelling",
      "metadata": {}
    },
    {
      "cell_type": "markdown",
      "source": "## Exercise 4 - Create a markdown cell to list data science languages\n\nSome of the popular languages that Data Scientists use are:",
      "metadata": {}
    },
    {
      "cell_type": "code",
      "source": "ordered_list =[\"SQL\",\"Python\",\"R\"]",
      "metadata": {
        "trusted": true
      },
      "execution_count": 3,
      "outputs": []
    },
    {
      "cell_type": "markdown",
      "source": "## Exercise 5 - Create a markdown cell to list data science libraries\n\nSome of the commonly used libraries used by Data Scientists include:",
      "metadata": {}
    },
    {
      "cell_type": "code",
      "source": "ordered_list =[\"Numpy\",\"Matplotlib\",\"Seaborn\",\"Sciki - learn\"]",
      "metadata": {
        "trusted": true
      },
      "execution_count": 4,
      "outputs": []
    },
    {
      "cell_type": "markdown",
      "source": "## Exercise 6 - Create a markdown cell with a table of Data Science tools",
      "metadata": {}
    },
    {
      "cell_type": "code",
      "source": "table_header = \"Data Science Tools\"\ntools = [\"Jupyter Notebook\", \"RStudio\", \"Visual Studio Code\"]\n\n# Create the table header\ntable = f\"| {table_header} |\\n\"\n\n# Add the separator row\ntable += \"| \" + \"-\" * len(table_header) + \" |\\n\"\n\n# Add the tool rows\nfor tool in tools:\n    table += f\"| {tool} |\\n\"\n\n# Print the table\nprint(table)",
      "metadata": {
        "trusted": true
      },
      "execution_count": 5,
      "outputs": [
        {
          "name": "stdout",
          "text": "| Data Science Tools |\n| ------------------ |\n| Jupyter Notebook |\n| RStudio |\n| Visual Studio Code |\n\n",
          "output_type": "stream"
        }
      ]
    },
    {
      "cell_type": "markdown",
      "source": "## Exercise 7 - Create a markdown cell introducing arithmetic expression examples",
      "metadata": {}
    },
    {
      "cell_type": "code",
      "source": "table_header = \"Data Science Tools\"\ntools = [\"Jupyter Notebook\", \"RStudio\", \"Visual Studio Code\"]\n\n# Create the H3 heading\nheading = \"### Below are a few examples of evaluating arithmetic expressions in Python.\\n\\n\"\n\n# Create the table header\ntable = f\"| {table_header} |\\n\"\n\n# Add the separator row\ntable += \"| \" + \"-\" * len(table_header) + \" |\\n\"\n\n# Add the tool rows\nfor tool in tools:\n    table += f\"| {tool} |\\n\"\n\n# Print the heading and table\nprint(heading + table)",
      "metadata": {
        "trusted": true
      },
      "execution_count": 6,
      "outputs": [
        {
          "name": "stdout",
          "text": "### Below are a few examples of evaluating arithmetic expressions in Python.\n\n| Data Science Tools |\n| ------------------ |\n| Jupyter Notebook |\n| RStudio |\n| Visual Studio Code |\n\n",
          "output_type": "stream"
        }
      ]
    },
    {
      "cell_type": "markdown",
      "source": "## Exercise 8 - Create a code cell to multiply and add numbers",
      "metadata": {}
    },
    {
      "cell_type": "code",
      "source": "# This is a simple arithmetic expression to multiply then add integers.\nresult = (3 * 4) + 5\nprint(result)",
      "metadata": {
        "trusted": true
      },
      "execution_count": 8,
      "outputs": [
        {
          "name": "stdout",
          "text": "17\n",
          "output_type": "stream"
        }
      ]
    },
    {
      "cell_type": "markdown",
      "source": "## Exercise 9 - Create a code cell to convert minutes to hours",
      "metadata": {}
    },
    {
      "cell_type": "code",
      "source": "# This will convert 200 minutes to hours by dividing by 60.\nminutes = 200\nhours = minutes / 60\nprint(hours)",
      "metadata": {
        "trusted": true
      },
      "execution_count": 9,
      "outputs": [
        {
          "name": "stdout",
          "text": "3.3333333333333335\n",
          "output_type": "stream"
        }
      ]
    },
    {
      "cell_type": "markdown",
      "source": "## Exercise 10 - Insert a markdown cell to list Objectives",
      "metadata": {}
    },
    {
      "cell_type": "markdown",
      "source": "## Author\nAssistant",
      "metadata": {}
    },
    {
      "cell_type": "markdown",
      "source": "",
      "metadata": {}
    },
    {
      "cell_type": "markdown",
      "source": "## Exercise 12 - Share your notebook through GitHub",
      "metadata": {}
    },
    {
      "cell_type": "code",
      "source": "",
      "metadata": {},
      "execution_count": null,
      "outputs": []
    }
  ]
}